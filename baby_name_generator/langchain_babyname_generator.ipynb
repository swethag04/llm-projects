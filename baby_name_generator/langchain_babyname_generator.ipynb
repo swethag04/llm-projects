{
  "nbformat": 4,
  "nbformat_minor": 0,
  "metadata": {
    "colab": {
      "provenance": []
    },
    "kernelspec": {
      "name": "python3",
      "display_name": "Python 3"
    },
    "language_info": {
      "name": "python"
    }
  },
  "cells": [
    {
      "cell_type": "code",
      "execution_count": 2,
      "metadata": {
        "id": "hoM6vPn36-jr"
      },
      "outputs": [],
      "source": [
        "from secret_key import openapi_key\n",
        "import os\n",
        "os.environ['OPENAI_API_KEY'] = openapi_key"
      ]
    },
    {
      "cell_type": "code",
      "source": [
        "#!pip install langchain\n",
        "#!pip install openai"
      ],
      "metadata": {
        "id": "pDnYaRcc9p0k"
      },
      "execution_count": 4,
      "outputs": []
    },
    {
      "cell_type": "markdown",
      "source": [
        "### LLMs"
      ],
      "metadata": {
        "id": "JNsrRAlzMF57"
      }
    },
    {
      "cell_type": "code",
      "source": [
        "from langchain.llms import OpenAI\n",
        "\n",
        "llm = OpenAI(temperature = 0.6)\n",
        "name = llm(\"Suggest top 5 popular names of American baby girls.\")\n",
        "print(name)"
      ],
      "metadata": {
        "colab": {
          "base_uri": "https://localhost:8080/"
        },
        "id": "p4-U9LS39D5p",
        "outputId": "c25c4ce5-d0fa-457b-ab6d-54327d493dd0"
      },
      "execution_count": 6,
      "outputs": [
        {
          "output_type": "stream",
          "name": "stdout",
          "text": [
            "\n",
            "\n",
            "1. Emma\n",
            "2. Olivia\n",
            "3. Ava\n",
            "4. Isabella\n",
            "5. Sophia\n"
          ]
        }
      ]
    },
    {
      "cell_type": "markdown",
      "source": [
        "### Prompt Template"
      ],
      "metadata": {
        "id": "WFYUoJRIMXxR"
      }
    },
    {
      "cell_type": "code",
      "source": [
        "from langchain.prompts import PromptTemplate\n",
        "\n",
        "prompt_template_name = PromptTemplate(\n",
        "    input_variables = ['gender', 'nationality'],\n",
        "    template = \"\"\"I want to find a name for a {nationality} {gender} baby. Suggest top 5 popular names for the baby. Return it as a comma separated list\"\"\")\n",
        "prompt_template_name.format(gender='Boy', nationality='Indian')\n",
        "\n"
      ],
      "metadata": {
        "colab": {
          "base_uri": "https://localhost:8080/",
          "height": 35
        },
        "id": "eJgJC9NM99JT",
        "outputId": "5140ac85-e0ee-414f-ec6e-a295802d5099"
      },
      "execution_count": 8,
      "outputs": [
        {
          "output_type": "execute_result",
          "data": {
            "text/plain": [
              "'I want to find a name for a Indian Boy baby. Suggest top 5 popular names for the baby. Return it as a comma separated list'"
            ],
            "application/vnd.google.colaboratory.intrinsic+json": {
              "type": "string"
            }
          },
          "metadata": {},
          "execution_count": 8
        }
      ]
    },
    {
      "cell_type": "markdown",
      "source": [
        "### Chains"
      ],
      "metadata": {
        "id": "h1MM-qW2NC27"
      }
    },
    {
      "cell_type": "code",
      "source": [
        "## Chains\n",
        "\n",
        "from langchain.chains import LLMChain\n",
        "\n",
        "name_chain = LLMChain(llm=llm,\n",
        "                      prompt = prompt_template_name,\n",
        "                      output_key= 'baby_names')"
      ],
      "metadata": {
        "id": "lqPGX6bkB9JA"
      },
      "execution_count": 9,
      "outputs": []
    },
    {
      "cell_type": "markdown",
      "source": [
        "### Sequential Chain"
      ],
      "metadata": {
        "id": "M2vZziBWNgZu"
      }
    },
    {
      "cell_type": "code",
      "source": [
        "from langchain.chains import SequentialChain\n",
        "\n",
        "chain = SequentialChain(chains = [name_chain],\n",
        "                        input_variables=['gender', 'nationality'],\n",
        "                        output_variables=['baby_names'])\n",
        "response = chain({'gender': 'Girl',\n",
        "                      'nationality': 'Indian'})\n",
        "print(response)"
      ],
      "metadata": {
        "colab": {
          "base_uri": "https://localhost:8080/"
        },
        "id": "dS3rI_EZEPOT",
        "outputId": "e87ccfbc-6ab8-4f98-c6e4-d2a2f9548591"
      },
      "execution_count": 11,
      "outputs": [
        {
          "output_type": "stream",
          "name": "stdout",
          "text": [
            "{'gender': 'Girl', 'nationality': 'Indian', 'baby_names': '\\n\\n1.Aaradhya, 2.Aanya, 3.Saraswati, 4.Diya, 5.Aadya'}\n"
          ]
        }
      ]
    },
    {
      "cell_type": "code",
      "source": [],
      "metadata": {
        "id": "_t-J6jw8F3iI"
      },
      "execution_count": null,
      "outputs": []
    }
  ]
}
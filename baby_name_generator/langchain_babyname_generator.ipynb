{
  "cells": [
    {
      "cell_type": "markdown",
      "metadata": {},
      "source": [
        "### Baby name Generator"
      ]
    },
    {
      "cell_type": "code",
      "execution_count": 2,
      "metadata": {
        "id": "hoM6vPn36-jr"
      },
      "outputs": [],
      "source": [
        "from secret_key import openapi_key\n",
        "import os\n",
        "os.environ['OPENAI_API_KEY'] = openapi_key"
      ]
    },
    {
      "cell_type": "code",
      "execution_count": 4,
      "metadata": {
        "id": "pDnYaRcc9p0k"
      },
      "outputs": [],
      "source": [
        "#!pip install langchain\n",
        "#!pip install openai"
      ]
    },
    {
      "cell_type": "markdown",
      "metadata": {
        "id": "JNsrRAlzMF57"
      },
      "source": [
        "### LLMs"
      ]
    },
    {
      "cell_type": "code",
      "execution_count": 6,
      "metadata": {
        "colab": {
          "base_uri": "https://localhost:8080/"
        },
        "id": "p4-U9LS39D5p",
        "outputId": "c25c4ce5-d0fa-457b-ab6d-54327d493dd0"
      },
      "outputs": [
        {
          "name": "stdout",
          "output_type": "stream",
          "text": [
            "\n",
            "\n",
            "1. Emma\n",
            "2. Olivia\n",
            "3. Ava\n",
            "4. Isabella\n",
            "5. Sophia\n"
          ]
        }
      ],
      "source": [
        "from langchain.llms import OpenAI\n",
        "\n",
        "llm = OpenAI(temperature = 0.6)\n",
        "name = llm(\"Suggest top 5 popular names of American baby girls.\")\n",
        "print(name)"
      ]
    },
    {
      "cell_type": "markdown",
      "metadata": {},
      "source": []
    },
    {
      "cell_type": "markdown",
      "metadata": {
        "id": "WFYUoJRIMXxR"
      },
      "source": [
        "### Prompt Template"
      ]
    },
    {
      "cell_type": "code",
      "execution_count": 8,
      "metadata": {
        "colab": {
          "base_uri": "https://localhost:8080/",
          "height": 35
        },
        "id": "eJgJC9NM99JT",
        "outputId": "5140ac85-e0ee-414f-ec6e-a295802d5099"
      },
      "outputs": [
        {
          "data": {
            "application/vnd.google.colaboratory.intrinsic+json": {
              "type": "string"
            },
            "text/plain": [
              "'I want to find a name for a Indian Boy baby. Suggest top 5 popular names for the baby. Return it as a comma separated list'"
            ]
          },
          "execution_count": 8,
          "metadata": {},
          "output_type": "execute_result"
        }
      ],
      "source": [
        "from langchain.prompts import PromptTemplate\n",
        "\n",
        "prompt_template_name = PromptTemplate(\n",
        "    input_variables = ['gender', 'nationality'],\n",
        "    template = \"\"\"I want to find a name for a {nationality} {gender} baby. Suggest top 5 popular names for the baby. Return it as a comma separated list\"\"\")\n",
        "prompt_template_name.format(gender='Boy', nationality='Indian')\n",
        "\n"
      ]
    },
    {
      "cell_type": "markdown",
      "metadata": {
        "id": "h1MM-qW2NC27"
      },
      "source": [
        "### Chains"
      ]
    },
    {
      "cell_type": "code",
      "execution_count": 9,
      "metadata": {
        "id": "lqPGX6bkB9JA"
      },
      "outputs": [],
      "source": [
        "## Chains\n",
        "\n",
        "from langchain.chains import LLMChain\n",
        "\n",
        "name_chain = LLMChain(llm=llm,\n",
        "                      prompt = prompt_template_name,\n",
        "                      output_key= 'baby_names')"
      ]
    },
    {
      "cell_type": "markdown",
      "metadata": {
        "id": "M2vZziBWNgZu"
      },
      "source": [
        "### Sequential Chain"
      ]
    },
    {
      "cell_type": "code",
      "execution_count": 11,
      "metadata": {
        "colab": {
          "base_uri": "https://localhost:8080/"
        },
        "id": "dS3rI_EZEPOT",
        "outputId": "e87ccfbc-6ab8-4f98-c6e4-d2a2f9548591"
      },
      "outputs": [
        {
          "name": "stdout",
          "output_type": "stream",
          "text": [
            "{'gender': 'Girl', 'nationality': 'Indian', 'baby_names': '\\n\\n1.Aaradhya, 2.Aanya, 3.Saraswati, 4.Diya, 5.Aadya'}\n"
          ]
        }
      ],
      "source": [
        "from langchain.chains import SequentialChain\n",
        "\n",
        "chain = SequentialChain(chains = [name_chain],\n",
        "                        input_variables=['gender', 'nationality'],\n",
        "                        output_variables=['baby_names'])\n",
        "response = chain({'gender': 'Girl',\n",
        "                      'nationality': 'Indian'})\n",
        "print(response)"
      ]
    },
    {
      "cell_type": "code",
      "execution_count": null,
      "metadata": {
        "id": "_t-J6jw8F3iI"
      },
      "outputs": [],
      "source": []
    }
  ],
  "metadata": {
    "colab": {
      "provenance": []
    },
    "kernelspec": {
      "display_name": "Python 3",
      "name": "python3"
    },
    "language_info": {
      "name": "python"
    }
  },
  "nbformat": 4,
  "nbformat_minor": 0
}

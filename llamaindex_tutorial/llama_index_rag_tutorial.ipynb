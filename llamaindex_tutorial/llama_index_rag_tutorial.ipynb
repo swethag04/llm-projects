{
  "cells": [
    {
      "cell_type": "markdown",
      "metadata": {
        "colab_type": "text",
        "id": "view-in-github"
      },
      "source": [
        "<a href=\"https://colab.research.google.com/github/swethag04/llm-projects/blob/main/llamaindex_tutorial/llama_index_rag_tutorial.ipynb\" target=\"_parent\"><img src=\"https://colab.research.google.com/assets/colab-badge.svg\" alt=\"Open In Colab\"/></a>"
      ]
    },
    {
      "cell_type": "code",
      "execution_count": 2,
      "metadata": {
        "id": "bkIAFwrwECgb"
      },
      "outputs": [],
      "source": [
        "# wrap around the text on screen\n",
        "import textwrap"
      ]
    },
    {
      "cell_type": "code",
      "execution_count": null,
      "metadata": {
        "id": "PjDJPGdxWh5R"
      },
      "outputs": [],
      "source": [
        "# !pip install openai\n",
        "# !pip install tiktoken\n",
        "# !pip install cohere\n",
        "# !pip install pypdf\n",
        "# !pip install sentence-transformers\n",
        "# !pip install -q \"huggingface_hub[inference]\"\n",
        "# !pip install -U llama-index\n",
        "# !pip install langchain"
      ]
    },
    {
      "cell_type": "code",
      "execution_count": 4,
      "metadata": {
        "id": "z7q0TTMlXu-P"
      },
      "outputs": [],
      "source": [
        "import os\n",
        "import openai\n",
        "#from google.colab import userdata\n",
        "#os.environ[\"OPENAI_API_KEY\"] = userdata.get('OPENAI_API_KEY')\n",
        "#os.environ[\"HUGGINGFACE_API_KEY\"] = userdata.get('HUGGINGFACE_API_KEY')\n",
        "#openai.api_key = os.getenv(\"OPENAI_API_KEY\")"
      ]
    },
    {
      "cell_type": "code",
      "execution_count": 18,
      "metadata": {
        "id": "-YAwHBxUZBTC"
      },
      "outputs": [],
      "source": [
        "import pandas as pd\n",
        "import regex as re\n",
        "from llama_index import (\n",
        "    VectorStoreIndex,\n",
        "    SimpleDirectoryReader,\n",
        "    StorageContext,\n",
        "    ServiceContext,\n",
        "    OpenAIEmbedding,\n",
        "    load_index_from_storage,\n",
        "    get_response_synthesizer\n",
        ")\n",
        "from llama_index.llms import OpenAI\n",
        "from langchain.embeddings import HuggingFaceEmbeddings\n",
        "import nest_asyncio\n",
        "nest_asyncio.apply()"
      ]
    },
    {
      "cell_type": "code",
      "execution_count": 6,
      "metadata": {
        "id": "z6IYeafu9Snx"
      },
      "outputs": [],
      "source": [
        "from llama_index.retrievers import VectorIndexRetriever\n",
        "from llama_index.query_engine import RetrieverQueryEngine, CitationQueryEngine\n",
        "from llama_index.postprocessor import SimilarityPostprocessor\n"
      ]
    },
    {
      "cell_type": "code",
      "execution_count": 7,
      "metadata": {
        "colab": {
          "base_uri": "https://localhost:8080/"
        },
        "id": "uNlCYOVlZZRb",
        "outputId": "39d6abd1-3e8a-4588-9d52-7f8309ed7e4c"
      },
      "outputs": [
        {
          "name": "stdout",
          "output_type": "stream",
          "text": [
            "Loaded150 docs\n"
          ]
        }
      ],
      "source": [
        "# Load the document\n",
        "reader = SimpleDirectoryReader(input_dir = '/content/sample_data')\n",
        "emp_doc = reader.load_data()\n",
        "print(f\"Loaded{len(emp_doc)} docs\")"
      ]
    },
    {
      "cell_type": "code",
      "execution_count": 8,
      "metadata": {
        "colab": {
          "base_uri": "https://localhost:8080/"
        },
        "id": "Zauq_vsRarWt",
        "outputId": "1fbc22e9-f088-4c0b-e236-3299178406e5"
      },
      "outputs": [
        {
          "name": "stdout",
          "output_type": "stream",
          "text": [
            "Doc ID: ad18290e-d80e-451f-867c-09228534a64f\n",
            "Text: ●Belittling conduct : name calling; playing “pranks” on a\n",
            "person; making fun of someone or telling jokes at their expense;\n",
            "taking, vandal izing, or otherwise damaging a person’s personal or\n",
            "work property; and spreading false information or rumors about\n",
            "someone; seeking submission or misuse of power, authority, rank,\n",
            "status, or other privilege ●M...\n"
          ]
        }
      ],
      "source": [
        "print(emp_doc[1])"
      ]
    },
    {
      "cell_type": "code",
      "execution_count": 9,
      "metadata": {
        "id": "r3GH-TGjhAqn"
      },
      "outputs": [],
      "source": [
        "## Customized  prompt to\n",
        "from llama_index.prompts import PromptTemplate\n",
        "template = (\n",
        "    \"You are a search service agent helping answer questions regarding employee policy for new and existing employees\"\n",
        "    \"You are provided with employees workplace policy document\"\n",
        "    \"Please provide an answer based solely on the provided sources. \"\n",
        "    \"Show page number from the source document \"\n",
        "    \"Every answer should include only one source citation. \"\n",
        "    \"Show only one source that was referenced in the answer\"\n",
        "    \"Only cite a source when you are explicitly referencing it. \"\n",
        "    \"If none of the sources are helpful, you should indicate that. \"\n",
        "    \"---------------------\\n\"\n",
        "    \"{context_str}\"\n",
        "    \"\\n---------------------\\n\"\n",
        "    \"Given this information, please answer the question: {query_str}\\n\"\n",
        ")\n",
        "qa_template = PromptTemplate(template)"
      ]
    },
    {
      "cell_type": "code",
      "execution_count": 10,
      "metadata": {
        "id": "Wy7iIaKpa14s"
      },
      "outputs": [],
      "source": [
        "# Create an index from the document\n",
        "# increased chunk size and chunk overlap for better response\n",
        "index = VectorStoreIndex.from_documents(emp_doc, service_context=ServiceContext.from_defaults(chunk_size=1000, chunk_overlap=200))\n"
      ]
    },
    {
      "cell_type": "code",
      "execution_count": 11,
      "metadata": {
        "id": "JLuvt6MFeXlj"
      },
      "outputs": [],
      "source": [
        "index.storage_context.persist(persist_dir = '/content/sample_data')\n"
      ]
    },
    {
      "cell_type": "code",
      "execution_count": 12,
      "metadata": {
        "id": "LXREJ8609AfC"
      },
      "outputs": [],
      "source": [
        "# configure retriever\n",
        "retriever = VectorIndexRetriever(\n",
        "    index=index,\n",
        "    similarity_top_k=5, ## default value = 2\n",
        ")"
      ]
    },
    {
      "cell_type": "code",
      "execution_count": 13,
      "metadata": {
        "id": "F4uQBig485GZ"
      },
      "outputs": [],
      "source": [
        "## Query engine for without citation\n",
        "# query_engine = RetrieverQueryEngine.from_args(\n",
        "#     retriever=retriever,\n",
        "#    # service_context = service_context,\n",
        "#     node_postprocessors=[SimilarityPostprocessor(similarity_cutoff=0.7)],\n",
        "#     response_mode = \"compact\",\n",
        "#     text_qa_template=qa_template\n",
        "# )\n"
      ]
    },
    {
      "cell_type": "code",
      "execution_count": 14,
      "metadata": {
        "id": "xbfQysOO2W7D"
      },
      "outputs": [],
      "source": [
        "# query engine with citation\n",
        "citation_engine = CitationQueryEngine.from_args(\n",
        "    index,\n",
        "    citation_chunk_size=1000,\n",
        "    citation_chunk_overlap = 200,\n",
        "    citation_qa_template=qa_template,\n",
        "     retriever=retriever,\n",
        "    response_mode = \"compact\",\n",
        "    node_postprocessors=[SimilarityPostprocessor(similarity_cutoff=0.7)]\n",
        ")\n"
      ]
    },
    {
      "cell_type": "code",
      "execution_count": 15,
      "metadata": {
        "colab": {
          "base_uri": "https://localhost:8080/"
        },
        "id": "esS3mucHJTY5",
        "outputId": "5b2f5f72-94d1-456d-a97f-eef38afa741f"
      },
      "outputs": [
        {
          "data": {
            "text/plain": [
              "{'response_synthesizer:text_qa_template': PromptTemplate(metadata={'prompt_type': <PromptType.CUSTOM: 'custom'>}, template_vars=['context_str', 'query_str'], kwargs={}, output_parser=None, template_var_mappings=None, function_mappings=None, template='You are a search service agent helping answer questions regarding employee policy for new and existing employeesYou are provided with employees workplace policy documentPlease provide an answer based solely on the provided sources. Show page number from the source document Every answer should include only one source citation. Show only one source that was referenced in the answerOnly cite a source when you are explicitly referencing it. If none of the sources are helpful, you should indicate that. ---------------------\\n{context_str}\\n---------------------\\nGiven this information, please answer the question: {query_str}\\n'),\n",
              " 'response_synthesizer:refine_template': PromptTemplate(metadata={'prompt_type': <PromptType.CUSTOM: 'custom'>}, template_vars=['existing_answer', 'context_msg', 'query_str'], kwargs={}, output_parser=None, template_var_mappings=None, function_mappings=None, template=\"Please provide an answer based solely on the provided sources. When referencing information from a source, cite the appropriate source(s) using their corresponding numbers. Every answer should include at least one source citation. Only cite a source when you are explicitly referencing it. If none of the sources are helpful, you should indicate that. For example:\\nSource 1:\\nThe sky is red in the evening and blue in the morning.\\nSource 2:\\nWater is wet when the sky is red.\\nQuery: When is water wet?\\nAnswer: Water will be wet when the sky is red [2], which occurs in the evening [1].\\nNow it's your turn. We have provided an existing answer: {existing_answer}Below are several numbered sources of information. Use them to refine the existing answer. If the provided sources are not helpful, you will repeat the existing answer.\\nBegin refining!\\n------\\n{context_msg}\\n------\\nQuery: {query_str}\\nAnswer: \")}"
            ]
          },
          "execution_count": 15,
          "metadata": {},
          "output_type": "execute_result"
        }
      ],
      "source": [
        "citation_engine.get_prompts()"
      ]
    },
    {
      "cell_type": "code",
      "execution_count": 20,
      "metadata": {
        "colab": {
          "base_uri": "https://localhost:8080/"
        },
        "id": "CZEwwBGoat6F",
        "outputId": "c3f16ca3-d0c9-402a-8236-aac94a40fb10"
      },
      "outputs": [
        {
          "name": "stdout",
          "output_type": "stream",
          "text": [
            "Question: What is the severance pay for an employee during a layoff? \n",
            "Answer: The severance pay for an employee during a layoff is one week of\n",
            "severance pay for each full year of continuous service in any Category 18\n",
            "appointment, up to a maximum of nine weeks of severance pay. This severance pay\n",
            "is calculated at the employee's base hourly rate. (Source: Page 27)\n",
            "--------------------------------------------\n",
            "--------------------------------------------\n",
            "Question: What is the pay for night duty? \n",
            "Answer: Employees shall be paid eight percent (8%) more than the base rate for\n",
            "each hour worked between 5:00 p.m. and 7:00 a.m., provided that the employees'\n",
            "regular shift includes at least one (1) hour between 5:00 p.m. and 7:00 a.m.\n",
            "(Source 1, page 46)\n",
            "Source 1:\n",
            "ARTICLE III – PAY, HOURS AND BENEFITS  \n",
            " \n",
            "MEMORANDUM OF UNDERSTANDING, FY 2022 - 2024 \n",
            "CITY AND COUNTY OF SAN FRANCISCO AND  \n",
            "IFPTE, LOCAL 21  \n",
            " \n",
            "40 19. Standby Pay  \n",
            "256. Employees who receive this premium shall respond immediately when paged or called. \n",
            "Employees who, as part of the duties of their positions are required by the appropriate employer representative to stand by when normally off duty to be instantly available on call to perform their regular duties, shall be paid 10% of base pay for the period of such standby service when outfitted by their Department with a cell phone or other electronic communication device. When such employees are paged or called to perform their regular duties during the period of such standby service, they shall be paid their usual rate of pay for either a quarter hour or the actual time worked, whichever is greater, while engaged in such service. For Z -symbol employees, standby pay shall not be allowed unless the \n",
            "employee is assigned in writing to standby for emergencies  that directly threaten the \n",
            "health or safety of the public and/or City employees or that relate to the City’s information and communication systems. Employees reporting directly to Department Heads are not eligible for standby pay.   \n",
            " \n",
            "257. The standby rate for Class 2218 Physician Assistant shall be the same as that for Class 2328 Nurse Practitioner   \n",
            "20. Call Back  \n",
            "258. Employees (except those at remote locations where City supplied housing has been offered, or who are otherwise being compensated) who are called back to their work locations following the completion of the ir work day and departure from their  place of \n",
            "emplo yment, shall be granted a minimum of four (4) hours pay at the applicable rate or \n",
            "shall be paid for all hours actually worked at the applicable rate, whichever is greater.  This section shall not apply to employees who are called back to duty when on stand -by \n",
            "status.  The employee's work day shall not be adjusted to avoid the payment of this minimum.  \n",
            " \n",
            "21. Night Duty \n",
            "259. Employees shall be paid eight percent (8%) more than the base rate for each hour worked between 5:00 p.m. and 7:00 a.m. provided that the employees’ regular shift includes at least one (1) hour between 5:00 p.m. and 7:00 a.m., except for those employees participating in an authorized flex- time program and who voluntarily work between the \n",
            "hours of 5:00 p.m. and 7:00 a.m. \n",
            " 260. Employees shall be paid t en percent (10%) more than the base rate for each hour worked \n",
            "between the hours of midnight (12:00 a.m.) and 7:00 a.m. provided that the employees’ regular shift includes at least five (5) hours between the hours of midnight (12:00 a.m.) and 7:00 a.m. \n",
            " \n",
            "22. County Surveyor Premium \n",
            "261. If assigned in writing by the Director of Public Works to carry out the duties and responsibilities of the County Surveyor, an employee in this assignment will receive a five percent (5%) premium payment in addition to the employee ’s basic wage during the \n",
            "duration of that assignment.\n",
            "\n",
            "--------------------------------------------\n",
            "--------------------------------------------\n",
            "Question: How much life insurance is provided? \n",
            "Answer: Based on the provided sources, the City will provide $50,000 in term\n",
            "life insurance to each employee. (Source 1, page 67)\n",
            "Source 1:\n",
            "ARTICLE III – PAY, HOURS AND BENEFITS  \n",
            " \n",
            "MEMORANDUM OF UNDERSTANDING, FY 2022 - 2024 \n",
            "CITY AND COUNTY OF SAN FRANCISCO AND  \n",
            "IFPTE, LOCAL 21  \n",
            " \n",
            "61 the Health Services System with employee plus two or more dependents where HMOs \n",
            "are not available and such employees are limited to enrollment in Plan 1.  \n",
            " \n",
            " 5.   Life Insurance  \n",
            "399. The City will provid e $50,000 in term life insurance to each employee.  \n",
            " \n",
            "III.Q.  RETIREMENT \n",
            "1.   Retirement Payments  \n",
            "400. The SFERS shall process and pay retirement claims in the following manner: \n",
            " \n",
            "BENEFIT                       PROCESSING TIME          \n",
            "Initial monthly              60 days maximum retirement allowance     90% within 60 days \n",
            " \n",
            "Withdrawal of               6 weeks maximum \n",
            " contributions                 85% paid in 30 days \n",
            "  Death benefit         30 days maximum \n",
            "       90% paid within 30 days        of filing appropriate papers  401. Represented employees agree to pay their own employee retirement contribution to \n",
            "SFERS .  For employees who became members of SFERS prior to November 2, 1976 \n",
            "(Charter Section A8.509 Miscellaneous Plan), the City shall pick up one -half percent \n",
            "(0.5%) of the total employee retirement contribution. \n",
            " \n",
            " \n",
            "3.  Quarterly Report and Annual Meeting \n",
            "402. The San Francisco Employees Retirement System shall provide upon request a quarterly report to the Union detailing its current holdings and its annual return on investments.  The Retirement System shall also meet each Fall during the term of this Agreement after their annual audit to review their portfolio with the Union on request.  The Union will attempt to provide specific questions  and items of interest in advance to SFERS to assist \n",
            "in setting an appropriate agenda. \n",
            " \n",
            "5.   Release Time for Pre- Retirement Planning Seminars  \n",
            "403. Subject to development, availability and scheduling by SFERS and PERS, employees shall be allowed not more than one (1) day during the life of this MOU to attend a pre -\n",
            "retirement planning seminar sponsored by SFERS or PERS. \n",
            " 404. Employees must provide at least two (2) weeks advance notice of their desire to attend a retirement planning seminar to the appropriate supervisor.  An employee shall be released from work to attend the seminar unless staffing requirements or other Department\n",
            "\n",
            "--------------------------------------------\n",
            "--------------------------------------------\n"
          ]
        }
      ],
      "source": [
        "ques_list = [\n",
        "    \"What is the severance pay for an employee during a layoff?\",\n",
        "    \"What is the pay for night duty?\",\n",
        "    \"How much life insurance is provided?\",\n",
        "]\n",
        "for q in ques_list:\n",
        "  print(f\"Question: {q} \")\n",
        "  ans = citation_engine.query(q)\n",
        "  print(textwrap.fill(f\"Answer: {ans}\", 80))\n",
        "  sources=re.findall(r\"(Source \\d*)\", ans.response)\n",
        "  for s in sources:\n",
        "    index = int(s.split()[1])\n",
        "    print(ans.source_nodes[index-1].node.get_content())\n",
        "  print(\"--------------------------------------------\")\n",
        "  print(\"--------------------------------------------\")\n"
      ]
    },
    {
      "cell_type": "code",
      "execution_count": null,
      "metadata": {
        "id": "YlN6OJr4SMHN"
      },
      "outputs": [],
      "source": [
        "# Pretty response\n",
        "# from llama_index.response.notebook_utils import (\n",
        "#     display_source_node,\n",
        "#     display_response,)\n",
        "# display_response(\n",
        "#     ans, source_length=1000, show_source=True, show_source_metadata=True\n",
        "# )\n"
      ]
    }
  ],
  "metadata": {
    "colab": {
      "authorship_tag": "ABX9TyNKrrEj4Dp6sffKgnsknK2+",
      "include_colab_link": true,
      "provenance": []
    },
    "kernelspec": {
      "display_name": "Python 3",
      "name": "python3"
    },
    "language_info": {
      "name": "python"
    }
  },
  "nbformat": 4,
  "nbformat_minor": 0
}
